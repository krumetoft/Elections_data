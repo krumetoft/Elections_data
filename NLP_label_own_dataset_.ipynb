{
  "nbformat": 4,
  "nbformat_minor": 0,
  "metadata": {
    "colab": {
      "name": "NLP label own dataset .ipynb",
      "provenance": [],
      "collapsed_sections": [],
      "authorship_tag": "ABX9TyPsbPBIstVjqvifWhUCaZ1p",
      "include_colab_link": true
    },
    "kernelspec": {
      "name": "python3",
      "display_name": "Python 3"
    },
    "language_info": {
      "name": "python"
    },
    "widgets": {
      "application/vnd.jupyter.widget-state+json": {
        "998d54d7a9af4c49b2ebf0d9c4b2505b": {
          "model_module": "@jupyter-widgets/controls",
          "model_name": "HTMLModel",
          "model_module_version": "1.5.0",
          "state": {
            "_dom_classes": [],
            "_model_module": "@jupyter-widgets/controls",
            "_model_module_version": "1.5.0",
            "_model_name": "HTMLModel",
            "_view_count": null,
            "_view_module": "@jupyter-widgets/controls",
            "_view_module_version": "1.5.0",
            "_view_name": "HTMLView",
            "description": "",
            "description_tooltip": null,
            "layout": "IPY_MODEL_e2248583a48142a08ed9f9dea0198c4a",
            "placeholder": "​",
            "style": "IPY_MODEL_9a0b3bf702bc4a3ba3caffa1c3cb1d69",
            "value": "4 examples annotated, 0 examples left"
          }
        },
        "e2248583a48142a08ed9f9dea0198c4a": {
          "model_module": "@jupyter-widgets/base",
          "model_name": "LayoutModel",
          "model_module_version": "1.2.0",
          "state": {
            "_model_module": "@jupyter-widgets/base",
            "_model_module_version": "1.2.0",
            "_model_name": "LayoutModel",
            "_view_count": null,
            "_view_module": "@jupyter-widgets/base",
            "_view_module_version": "1.2.0",
            "_view_name": "LayoutView",
            "align_content": null,
            "align_items": null,
            "align_self": null,
            "border": null,
            "bottom": null,
            "display": null,
            "flex": null,
            "flex_flow": null,
            "grid_area": null,
            "grid_auto_columns": null,
            "grid_auto_flow": null,
            "grid_auto_rows": null,
            "grid_column": null,
            "grid_gap": null,
            "grid_row": null,
            "grid_template_areas": null,
            "grid_template_columns": null,
            "grid_template_rows": null,
            "height": null,
            "justify_content": null,
            "justify_items": null,
            "left": null,
            "margin": null,
            "max_height": null,
            "max_width": null,
            "min_height": null,
            "min_width": null,
            "object_fit": null,
            "object_position": null,
            "order": null,
            "overflow": null,
            "overflow_x": null,
            "overflow_y": null,
            "padding": null,
            "right": null,
            "top": null,
            "visibility": null,
            "width": null
          }
        },
        "9a0b3bf702bc4a3ba3caffa1c3cb1d69": {
          "model_module": "@jupyter-widgets/controls",
          "model_name": "DescriptionStyleModel",
          "model_module_version": "1.5.0",
          "state": {
            "_model_module": "@jupyter-widgets/controls",
            "_model_module_version": "1.5.0",
            "_model_name": "DescriptionStyleModel",
            "_view_count": null,
            "_view_module": "@jupyter-widgets/base",
            "_view_module_version": "1.2.0",
            "_view_name": "StyleView",
            "description_width": ""
          }
        },
        "40246d2b6d104f7f89ca653e18da2afb": {
          "model_module": "@jupyter-widgets/controls",
          "model_name": "HBoxModel",
          "model_module_version": "1.5.0",
          "state": {
            "_dom_classes": [],
            "_model_module": "@jupyter-widgets/controls",
            "_model_module_version": "1.5.0",
            "_model_name": "HBoxModel",
            "_view_count": null,
            "_view_module": "@jupyter-widgets/controls",
            "_view_module_version": "1.5.0",
            "_view_name": "HBoxView",
            "box_style": "",
            "children": [
              "IPY_MODEL_64c26253a8734603882520ccb6008a39",
              "IPY_MODEL_507192b8d774403184c68d779cf15b75",
              "IPY_MODEL_aad81e8d672443a2ae34992822832491",
              "IPY_MODEL_340dc3fcd5024b53bcc0b7d74f2ac426"
            ],
            "layout": "IPY_MODEL_312455a4c457497f9f38e190f5f7d2e6"
          }
        },
        "64c26253a8734603882520ccb6008a39": {
          "model_module": "@jupyter-widgets/controls",
          "model_name": "ButtonModel",
          "model_module_version": "1.5.0",
          "state": {
            "_dom_classes": [],
            "_model_module": "@jupyter-widgets/controls",
            "_model_module_version": "1.5.0",
            "_model_name": "ButtonModel",
            "_view_count": null,
            "_view_module": "@jupyter-widgets/controls",
            "_view_module_version": "1.5.0",
            "_view_name": "ButtonView",
            "button_style": "",
            "description": "informative",
            "disabled": true,
            "icon": "",
            "layout": "IPY_MODEL_faec3c137f4f49e0b8230615c0cb8d90",
            "style": "IPY_MODEL_82c5daa70a6b41d394153222348bacb0",
            "tooltip": ""
          }
        },
        "507192b8d774403184c68d779cf15b75": {
          "model_module": "@jupyter-widgets/controls",
          "model_name": "ButtonModel",
          "model_module_version": "1.5.0",
          "state": {
            "_dom_classes": [],
            "_model_module": "@jupyter-widgets/controls",
            "_model_module_version": "1.5.0",
            "_model_name": "ButtonModel",
            "_view_count": null,
            "_view_module": "@jupyter-widgets/controls",
            "_view_module_version": "1.5.0",
            "_view_name": "ButtonView",
            "button_style": "",
            "description": "emotional",
            "disabled": true,
            "icon": "",
            "layout": "IPY_MODEL_38a802d9f1f14dcd86d7a88171c5b68c",
            "style": "IPY_MODEL_8ddbc902d97845f786cefef7678713ed",
            "tooltip": ""
          }
        },
        "aad81e8d672443a2ae34992822832491": {
          "model_module": "@jupyter-widgets/controls",
          "model_name": "ButtonModel",
          "model_module_version": "1.5.0",
          "state": {
            "_dom_classes": [],
            "_model_module": "@jupyter-widgets/controls",
            "_model_module_version": "1.5.0",
            "_model_name": "ButtonModel",
            "_view_count": null,
            "_view_module": "@jupyter-widgets/controls",
            "_view_module_version": "1.5.0",
            "_view_name": "ButtonView",
            "button_style": "",
            "description": "informative & emotional",
            "disabled": true,
            "icon": "",
            "layout": "IPY_MODEL_4cbd2574acd74fbdbd57ad491b57bcb2",
            "style": "IPY_MODEL_03a5cd5e143f437ba559abf58b53ad33",
            "tooltip": ""
          }
        },
        "340dc3fcd5024b53bcc0b7d74f2ac426": {
          "model_module": "@jupyter-widgets/controls",
          "model_name": "ButtonModel",
          "model_module_version": "1.5.0",
          "state": {
            "_dom_classes": [],
            "_model_module": "@jupyter-widgets/controls",
            "_model_module_version": "1.5.0",
            "_model_name": "ButtonModel",
            "_view_count": null,
            "_view_module": "@jupyter-widgets/controls",
            "_view_module_version": "1.5.0",
            "_view_name": "ButtonView",
            "button_style": "",
            "description": "skip",
            "disabled": true,
            "icon": "",
            "layout": "IPY_MODEL_2bf9b5e664914304805acae3c4f10387",
            "style": "IPY_MODEL_c83bfbf3638042b08cee18adaa500258",
            "tooltip": ""
          }
        },
        "312455a4c457497f9f38e190f5f7d2e6": {
          "model_module": "@jupyter-widgets/base",
          "model_name": "LayoutModel",
          "model_module_version": "1.2.0",
          "state": {
            "_model_module": "@jupyter-widgets/base",
            "_model_module_version": "1.2.0",
            "_model_name": "LayoutModel",
            "_view_count": null,
            "_view_module": "@jupyter-widgets/base",
            "_view_module_version": "1.2.0",
            "_view_name": "LayoutView",
            "align_content": null,
            "align_items": null,
            "align_self": null,
            "border": null,
            "bottom": null,
            "display": null,
            "flex": null,
            "flex_flow": null,
            "grid_area": null,
            "grid_auto_columns": null,
            "grid_auto_flow": null,
            "grid_auto_rows": null,
            "grid_column": null,
            "grid_gap": null,
            "grid_row": null,
            "grid_template_areas": null,
            "grid_template_columns": null,
            "grid_template_rows": null,
            "height": null,
            "justify_content": null,
            "justify_items": null,
            "left": null,
            "margin": null,
            "max_height": null,
            "max_width": null,
            "min_height": null,
            "min_width": null,
            "object_fit": null,
            "object_position": null,
            "order": null,
            "overflow": null,
            "overflow_x": null,
            "overflow_y": null,
            "padding": null,
            "right": null,
            "top": null,
            "visibility": null,
            "width": null
          }
        },
        "faec3c137f4f49e0b8230615c0cb8d90": {
          "model_module": "@jupyter-widgets/base",
          "model_name": "LayoutModel",
          "model_module_version": "1.2.0",
          "state": {
            "_model_module": "@jupyter-widgets/base",
            "_model_module_version": "1.2.0",
            "_model_name": "LayoutModel",
            "_view_count": null,
            "_view_module": "@jupyter-widgets/base",
            "_view_module_version": "1.2.0",
            "_view_name": "LayoutView",
            "align_content": null,
            "align_items": null,
            "align_self": null,
            "border": null,
            "bottom": null,
            "display": null,
            "flex": null,
            "flex_flow": null,
            "grid_area": null,
            "grid_auto_columns": null,
            "grid_auto_flow": null,
            "grid_auto_rows": null,
            "grid_column": null,
            "grid_gap": null,
            "grid_row": null,
            "grid_template_areas": null,
            "grid_template_columns": null,
            "grid_template_rows": null,
            "height": null,
            "justify_content": null,
            "justify_items": null,
            "left": null,
            "margin": null,
            "max_height": null,
            "max_width": null,
            "min_height": null,
            "min_width": null,
            "object_fit": null,
            "object_position": null,
            "order": null,
            "overflow": null,
            "overflow_x": null,
            "overflow_y": null,
            "padding": null,
            "right": null,
            "top": null,
            "visibility": null,
            "width": null
          }
        },
        "82c5daa70a6b41d394153222348bacb0": {
          "model_module": "@jupyter-widgets/controls",
          "model_name": "ButtonStyleModel",
          "model_module_version": "1.5.0",
          "state": {
            "_model_module": "@jupyter-widgets/controls",
            "_model_module_version": "1.5.0",
            "_model_name": "ButtonStyleModel",
            "_view_count": null,
            "_view_module": "@jupyter-widgets/base",
            "_view_module_version": "1.2.0",
            "_view_name": "StyleView",
            "button_color": null,
            "font_weight": ""
          }
        },
        "38a802d9f1f14dcd86d7a88171c5b68c": {
          "model_module": "@jupyter-widgets/base",
          "model_name": "LayoutModel",
          "model_module_version": "1.2.0",
          "state": {
            "_model_module": "@jupyter-widgets/base",
            "_model_module_version": "1.2.0",
            "_model_name": "LayoutModel",
            "_view_count": null,
            "_view_module": "@jupyter-widgets/base",
            "_view_module_version": "1.2.0",
            "_view_name": "LayoutView",
            "align_content": null,
            "align_items": null,
            "align_self": null,
            "border": null,
            "bottom": null,
            "display": null,
            "flex": null,
            "flex_flow": null,
            "grid_area": null,
            "grid_auto_columns": null,
            "grid_auto_flow": null,
            "grid_auto_rows": null,
            "grid_column": null,
            "grid_gap": null,
            "grid_row": null,
            "grid_template_areas": null,
            "grid_template_columns": null,
            "grid_template_rows": null,
            "height": null,
            "justify_content": null,
            "justify_items": null,
            "left": null,
            "margin": null,
            "max_height": null,
            "max_width": null,
            "min_height": null,
            "min_width": null,
            "object_fit": null,
            "object_position": null,
            "order": null,
            "overflow": null,
            "overflow_x": null,
            "overflow_y": null,
            "padding": null,
            "right": null,
            "top": null,
            "visibility": null,
            "width": null
          }
        },
        "8ddbc902d97845f786cefef7678713ed": {
          "model_module": "@jupyter-widgets/controls",
          "model_name": "ButtonStyleModel",
          "model_module_version": "1.5.0",
          "state": {
            "_model_module": "@jupyter-widgets/controls",
            "_model_module_version": "1.5.0",
            "_model_name": "ButtonStyleModel",
            "_view_count": null,
            "_view_module": "@jupyter-widgets/base",
            "_view_module_version": "1.2.0",
            "_view_name": "StyleView",
            "button_color": null,
            "font_weight": ""
          }
        },
        "4cbd2574acd74fbdbd57ad491b57bcb2": {
          "model_module": "@jupyter-widgets/base",
          "model_name": "LayoutModel",
          "model_module_version": "1.2.0",
          "state": {
            "_model_module": "@jupyter-widgets/base",
            "_model_module_version": "1.2.0",
            "_model_name": "LayoutModel",
            "_view_count": null,
            "_view_module": "@jupyter-widgets/base",
            "_view_module_version": "1.2.0",
            "_view_name": "LayoutView",
            "align_content": null,
            "align_items": null,
            "align_self": null,
            "border": null,
            "bottom": null,
            "display": null,
            "flex": null,
            "flex_flow": null,
            "grid_area": null,
            "grid_auto_columns": null,
            "grid_auto_flow": null,
            "grid_auto_rows": null,
            "grid_column": null,
            "grid_gap": null,
            "grid_row": null,
            "grid_template_areas": null,
            "grid_template_columns": null,
            "grid_template_rows": null,
            "height": null,
            "justify_content": null,
            "justify_items": null,
            "left": null,
            "margin": null,
            "max_height": null,
            "max_width": null,
            "min_height": null,
            "min_width": null,
            "object_fit": null,
            "object_position": null,
            "order": null,
            "overflow": null,
            "overflow_x": null,
            "overflow_y": null,
            "padding": null,
            "right": null,
            "top": null,
            "visibility": null,
            "width": null
          }
        },
        "03a5cd5e143f437ba559abf58b53ad33": {
          "model_module": "@jupyter-widgets/controls",
          "model_name": "ButtonStyleModel",
          "model_module_version": "1.5.0",
          "state": {
            "_model_module": "@jupyter-widgets/controls",
            "_model_module_version": "1.5.0",
            "_model_name": "ButtonStyleModel",
            "_view_count": null,
            "_view_module": "@jupyter-widgets/base",
            "_view_module_version": "1.2.0",
            "_view_name": "StyleView",
            "button_color": null,
            "font_weight": ""
          }
        },
        "2bf9b5e664914304805acae3c4f10387": {
          "model_module": "@jupyter-widgets/base",
          "model_name": "LayoutModel",
          "model_module_version": "1.2.0",
          "state": {
            "_model_module": "@jupyter-widgets/base",
            "_model_module_version": "1.2.0",
            "_model_name": "LayoutModel",
            "_view_count": null,
            "_view_module": "@jupyter-widgets/base",
            "_view_module_version": "1.2.0",
            "_view_name": "LayoutView",
            "align_content": null,
            "align_items": null,
            "align_self": null,
            "border": null,
            "bottom": null,
            "display": null,
            "flex": null,
            "flex_flow": null,
            "grid_area": null,
            "grid_auto_columns": null,
            "grid_auto_flow": null,
            "grid_auto_rows": null,
            "grid_column": null,
            "grid_gap": null,
            "grid_row": null,
            "grid_template_areas": null,
            "grid_template_columns": null,
            "grid_template_rows": null,
            "height": null,
            "justify_content": null,
            "justify_items": null,
            "left": null,
            "margin": null,
            "max_height": null,
            "max_width": null,
            "min_height": null,
            "min_width": null,
            "object_fit": null,
            "object_position": null,
            "order": null,
            "overflow": null,
            "overflow_x": null,
            "overflow_y": null,
            "padding": null,
            "right": null,
            "top": null,
            "visibility": null,
            "width": null
          }
        },
        "c83bfbf3638042b08cee18adaa500258": {
          "model_module": "@jupyter-widgets/controls",
          "model_name": "ButtonStyleModel",
          "model_module_version": "1.5.0",
          "state": {
            "_model_module": "@jupyter-widgets/controls",
            "_model_module_version": "1.5.0",
            "_model_name": "ButtonStyleModel",
            "_view_count": null,
            "_view_module": "@jupyter-widgets/base",
            "_view_module_version": "1.2.0",
            "_view_name": "StyleView",
            "button_color": null,
            "font_weight": ""
          }
        },
        "b4400e3db56b4a24835c699a40c664a9": {
          "model_module": "@jupyter-widgets/output",
          "model_name": "OutputModel",
          "model_module_version": "1.0.0",
          "state": {
            "_dom_classes": [],
            "_model_module": "@jupyter-widgets/output",
            "_model_module_version": "1.0.0",
            "_model_name": "OutputModel",
            "_view_count": null,
            "_view_module": "@jupyter-widgets/output",
            "_view_module_version": "1.0.0",
            "_view_name": "OutputView",
            "layout": "IPY_MODEL_e9fb81e046ff4becb37a4bc4e94eb41e",
            "msg_id": "",
            "outputs": [
              {
                "output_type": "display_data",
                "data": {
                  "text/plain": "<IPython.core.display.HTML object>",
                  "text/html": "just a test"
                },
                "metadata": {}
              }
            ]
          }
        },
        "e9fb81e046ff4becb37a4bc4e94eb41e": {
          "model_module": "@jupyter-widgets/base",
          "model_name": "LayoutModel",
          "model_module_version": "1.2.0",
          "state": {
            "_model_module": "@jupyter-widgets/base",
            "_model_module_version": "1.2.0",
            "_model_name": "LayoutModel",
            "_view_count": null,
            "_view_module": "@jupyter-widgets/base",
            "_view_module_version": "1.2.0",
            "_view_name": "LayoutView",
            "align_content": null,
            "align_items": null,
            "align_self": null,
            "border": null,
            "bottom": null,
            "display": null,
            "flex": null,
            "flex_flow": null,
            "grid_area": null,
            "grid_auto_columns": null,
            "grid_auto_flow": null,
            "grid_auto_rows": null,
            "grid_column": null,
            "grid_gap": null,
            "grid_row": null,
            "grid_template_areas": null,
            "grid_template_columns": null,
            "grid_template_rows": null,
            "height": null,
            "justify_content": null,
            "justify_items": null,
            "left": null,
            "margin": null,
            "max_height": null,
            "max_width": null,
            "min_height": null,
            "min_width": null,
            "object_fit": null,
            "object_position": null,
            "order": null,
            "overflow": null,
            "overflow_x": null,
            "overflow_y": null,
            "padding": null,
            "right": null,
            "top": null,
            "visibility": null,
            "width": null
          }
        }
      }
    }
  },
  "cells": [
    {
      "cell_type": "markdown",
      "metadata": {
        "id": "view-in-github",
        "colab_type": "text"
      },
      "source": [
        "<a href=\"https://colab.research.google.com/github/krumetoft/Elections_data/blob/main/NLP_label_own_dataset_.ipynb\" target=\"_parent\"><img src=\"https://colab.research.google.com/assets/colab-badge.svg\" alt=\"Open In Colab\"/></a>"
      ]
    },
    {
      "cell_type": "code",
      "execution_count": 1,
      "metadata": {
        "colab": {
          "base_uri": "https://localhost:8080/"
        },
        "id": "nGqqRTO5RuSM",
        "outputId": "ebeff879-9d44-45d5-aca9-61191ae745ce"
      },
      "outputs": [
        {
          "output_type": "stream",
          "name": "stdout",
          "text": [
            "Requirement already satisfied: pigeon-jupyter in /usr/local/lib/python3.7/dist-packages (0.1.0)\n",
            "Requirement already satisfied: ipywidgets in /usr/local/lib/python3.7/dist-packages (from pigeon-jupyter) (7.7.0)\n",
            "Requirement already satisfied: ipython-genutils~=0.2.0 in /usr/local/lib/python3.7/dist-packages (from ipywidgets->pigeon-jupyter) (0.2.0)\n",
            "Requirement already satisfied: jupyterlab-widgets>=1.0.0 in /usr/local/lib/python3.7/dist-packages (from ipywidgets->pigeon-jupyter) (1.1.0)\n",
            "Requirement already satisfied: ipython>=4.0.0 in /usr/local/lib/python3.7/dist-packages (from ipywidgets->pigeon-jupyter) (5.5.0)\n",
            "Requirement already satisfied: traitlets>=4.3.1 in /usr/local/lib/python3.7/dist-packages (from ipywidgets->pigeon-jupyter) (5.1.1)\n",
            "Requirement already satisfied: ipykernel>=4.5.1 in /usr/local/lib/python3.7/dist-packages (from ipywidgets->pigeon-jupyter) (4.10.1)\n",
            "Requirement already satisfied: widgetsnbextension~=3.6.0 in /usr/local/lib/python3.7/dist-packages (from ipywidgets->pigeon-jupyter) (3.6.0)\n",
            "Requirement already satisfied: nbformat>=4.2.0 in /usr/local/lib/python3.7/dist-packages (from ipywidgets->pigeon-jupyter) (5.3.0)\n",
            "Requirement already satisfied: jupyter-client in /usr/local/lib/python3.7/dist-packages (from ipykernel>=4.5.1->ipywidgets->pigeon-jupyter) (5.3.5)\n",
            "Requirement already satisfied: tornado>=4.0 in /usr/local/lib/python3.7/dist-packages (from ipykernel>=4.5.1->ipywidgets->pigeon-jupyter) (5.1.1)\n",
            "Requirement already satisfied: prompt-toolkit<2.0.0,>=1.0.4 in /usr/local/lib/python3.7/dist-packages (from ipython>=4.0.0->ipywidgets->pigeon-jupyter) (1.0.18)\n",
            "Requirement already satisfied: pygments in /usr/local/lib/python3.7/dist-packages (from ipython>=4.0.0->ipywidgets->pigeon-jupyter) (2.6.1)\n",
            "Requirement already satisfied: pexpect in /usr/local/lib/python3.7/dist-packages (from ipython>=4.0.0->ipywidgets->pigeon-jupyter) (4.8.0)\n",
            "Requirement already satisfied: setuptools>=18.5 in /usr/local/lib/python3.7/dist-packages (from ipython>=4.0.0->ipywidgets->pigeon-jupyter) (57.4.0)\n",
            "Requirement already satisfied: simplegeneric>0.8 in /usr/local/lib/python3.7/dist-packages (from ipython>=4.0.0->ipywidgets->pigeon-jupyter) (0.8.1)\n",
            "Requirement already satisfied: pickleshare in /usr/local/lib/python3.7/dist-packages (from ipython>=4.0.0->ipywidgets->pigeon-jupyter) (0.7.5)\n",
            "Requirement already satisfied: decorator in /usr/local/lib/python3.7/dist-packages (from ipython>=4.0.0->ipywidgets->pigeon-jupyter) (4.4.2)\n",
            "Requirement already satisfied: fastjsonschema in /usr/local/lib/python3.7/dist-packages (from nbformat>=4.2.0->ipywidgets->pigeon-jupyter) (2.15.3)\n",
            "Requirement already satisfied: jupyter-core in /usr/local/lib/python3.7/dist-packages (from nbformat>=4.2.0->ipywidgets->pigeon-jupyter) (4.10.0)\n",
            "Requirement already satisfied: jsonschema>=2.6 in /usr/local/lib/python3.7/dist-packages (from nbformat>=4.2.0->ipywidgets->pigeon-jupyter) (4.3.3)\n",
            "Requirement already satisfied: attrs>=17.4.0 in /usr/local/lib/python3.7/dist-packages (from jsonschema>=2.6->nbformat>=4.2.0->ipywidgets->pigeon-jupyter) (21.4.0)\n",
            "Requirement already satisfied: typing-extensions in /usr/local/lib/python3.7/dist-packages (from jsonschema>=2.6->nbformat>=4.2.0->ipywidgets->pigeon-jupyter) (4.2.0)\n",
            "Requirement already satisfied: importlib-metadata in /usr/local/lib/python3.7/dist-packages (from jsonschema>=2.6->nbformat>=4.2.0->ipywidgets->pigeon-jupyter) (4.11.3)\n",
            "Requirement already satisfied: importlib-resources>=1.4.0 in /usr/local/lib/python3.7/dist-packages (from jsonschema>=2.6->nbformat>=4.2.0->ipywidgets->pigeon-jupyter) (5.7.1)\n",
            "Requirement already satisfied: pyrsistent!=0.17.0,!=0.17.1,!=0.17.2,>=0.14.0 in /usr/local/lib/python3.7/dist-packages (from jsonschema>=2.6->nbformat>=4.2.0->ipywidgets->pigeon-jupyter) (0.18.1)\n",
            "Requirement already satisfied: zipp>=3.1.0 in /usr/local/lib/python3.7/dist-packages (from importlib-resources>=1.4.0->jsonschema>=2.6->nbformat>=4.2.0->ipywidgets->pigeon-jupyter) (3.8.0)\n",
            "Requirement already satisfied: wcwidth in /usr/local/lib/python3.7/dist-packages (from prompt-toolkit<2.0.0,>=1.0.4->ipython>=4.0.0->ipywidgets->pigeon-jupyter) (0.2.5)\n",
            "Requirement already satisfied: six>=1.9.0 in /usr/local/lib/python3.7/dist-packages (from prompt-toolkit<2.0.0,>=1.0.4->ipython>=4.0.0->ipywidgets->pigeon-jupyter) (1.15.0)\n",
            "Requirement already satisfied: notebook>=4.4.1 in /usr/local/lib/python3.7/dist-packages (from widgetsnbextension~=3.6.0->ipywidgets->pigeon-jupyter) (5.3.1)\n",
            "Requirement already satisfied: terminado>=0.8.1 in /usr/local/lib/python3.7/dist-packages (from notebook>=4.4.1->widgetsnbextension~=3.6.0->ipywidgets->pigeon-jupyter) (0.13.3)\n",
            "Requirement already satisfied: Send2Trash in /usr/local/lib/python3.7/dist-packages (from notebook>=4.4.1->widgetsnbextension~=3.6.0->ipywidgets->pigeon-jupyter) (1.8.0)\n",
            "Requirement already satisfied: nbconvert in /usr/local/lib/python3.7/dist-packages (from notebook>=4.4.1->widgetsnbextension~=3.6.0->ipywidgets->pigeon-jupyter) (5.6.1)\n",
            "Requirement already satisfied: jinja2 in /usr/local/lib/python3.7/dist-packages (from notebook>=4.4.1->widgetsnbextension~=3.6.0->ipywidgets->pigeon-jupyter) (2.11.3)\n",
            "Requirement already satisfied: pyzmq>=13 in /usr/local/lib/python3.7/dist-packages (from jupyter-client->ipykernel>=4.5.1->ipywidgets->pigeon-jupyter) (22.3.0)\n",
            "Requirement already satisfied: python-dateutil>=2.1 in /usr/local/lib/python3.7/dist-packages (from jupyter-client->ipykernel>=4.5.1->ipywidgets->pigeon-jupyter) (2.8.2)\n",
            "Requirement already satisfied: ptyprocess in /usr/local/lib/python3.7/dist-packages (from terminado>=0.8.1->notebook>=4.4.1->widgetsnbextension~=3.6.0->ipywidgets->pigeon-jupyter) (0.7.0)\n",
            "Requirement already satisfied: MarkupSafe>=0.23 in /usr/local/lib/python3.7/dist-packages (from jinja2->notebook>=4.4.1->widgetsnbextension~=3.6.0->ipywidgets->pigeon-jupyter) (2.0.1)\n",
            "Requirement already satisfied: mistune<2,>=0.8.1 in /usr/local/lib/python3.7/dist-packages (from nbconvert->notebook>=4.4.1->widgetsnbextension~=3.6.0->ipywidgets->pigeon-jupyter) (0.8.4)\n",
            "Requirement already satisfied: pandocfilters>=1.4.1 in /usr/local/lib/python3.7/dist-packages (from nbconvert->notebook>=4.4.1->widgetsnbextension~=3.6.0->ipywidgets->pigeon-jupyter) (1.5.0)\n",
            "Requirement already satisfied: testpath in /usr/local/lib/python3.7/dist-packages (from nbconvert->notebook>=4.4.1->widgetsnbextension~=3.6.0->ipywidgets->pigeon-jupyter) (0.6.0)\n",
            "Requirement already satisfied: defusedxml in /usr/local/lib/python3.7/dist-packages (from nbconvert->notebook>=4.4.1->widgetsnbextension~=3.6.0->ipywidgets->pigeon-jupyter) (0.7.1)\n",
            "Requirement already satisfied: entrypoints>=0.2.2 in /usr/local/lib/python3.7/dist-packages (from nbconvert->notebook>=4.4.1->widgetsnbextension~=3.6.0->ipywidgets->pigeon-jupyter) (0.4)\n",
            "Requirement already satisfied: bleach in /usr/local/lib/python3.7/dist-packages (from nbconvert->notebook>=4.4.1->widgetsnbextension~=3.6.0->ipywidgets->pigeon-jupyter) (5.0.0)\n",
            "Requirement already satisfied: webencodings in /usr/local/lib/python3.7/dist-packages (from bleach->nbconvert->notebook>=4.4.1->widgetsnbextension~=3.6.0->ipywidgets->pigeon-jupyter) (0.5.1)\n"
          ]
        }
      ],
      "source": [
        "!pip install pigeon-jupyter"
      ]
    },
    {
      "cell_type": "code",
      "source": [
        "from pigeon import annotate\n",
        "from IPython.display import display, HTML"
      ],
      "metadata": {
        "id": "zjG2XmhFSFD_"
      },
      "execution_count": 2,
      "outputs": []
    },
    {
      "cell_type": "code",
      "source": [
        "comments_examples = [\"\"\"This is a Russian bluff. 70% of the Russian gas goes to EUrope. Gas goes via pipelines. If they stop sending gas to Europe, they will have to torch it (no revenues) or plug the field. \n",
        "If they plug the field, it will cost a lot to plug it and then re-open it (good luck with export sanctions on oil services equipment). \n",
        "The Chinese could build a pipeline quickly (couple of years?) but valves, sensors, etc are made in the West. \n",
        "\n",
        "We need to hold on.\"\"\", \n",
        "\n",
        "\"\"\"Better to be a bit cold than surrender to Putin’s Russia. Better to be a bit poorer (even 15-30%) than give in to this menace that is Russia today and nuclear threats. \n",
        "Better to be fearless in the face of the bully. \n",
        "Better for the free world to stay United. \"\"\",\n",
        "\n",
        "\"\"\"Russia doing us a favour. Britain is not so reliant on Russian oil and gas, so we need to help these smaller countries shield their economies from this energy warfare.\n",
        "\n",
        "As for Hungary, what a disgrace of a country. They voted in Orban. Do the stories of Bucha, Mariupol and other attrocities not count for anything? Is human suffering something that can so easily be ignored with the offer of cheap gas? Don't tell me Orban has managed to block out these stories with his limited gerrymandering.\"\"\",\n",
        "\n",
        "\"\"\"Gas isn't even a large earner, it's just an obsession because Germany has used a lot of BP supplied oil and gas\n",
        "https://www.worldstopexports.com/russias-top-10-exports/ \n",
        "Russia’s Top 10 Exports by product - 2021 \n",
        "Crude oil - US$ 110.1 billion \n",
        "Processed petroleum oils - US$ 69.9 billion \n",
        "Coal, solid fuels made from coal - US$ 17.6 billion \n",
        "Gold (unwrought) - US$ 17.4 billion \n",
        "Iron/non-alloy steel products (semi-finished) - US$9.2 billion \n",
        "Petroleum gases - US$ 8.8 billion \n",
        "Platinum (unwrought) - US$8.5 billion \n",
        "Wheat - US$ 7.3 billion\"\"\",\n",
        "'just a test'\n",
        "\n",
        "]\n",
        "\n",
        "comments_examples\n"
      ],
      "metadata": {
        "colab": {
          "base_uri": "https://localhost:8080/"
        },
        "id": "lbU-fMLJSLzO",
        "outputId": "a6c4a935-4b18-46a6-de25-be793e641b00"
      },
      "execution_count": 3,
      "outputs": [
        {
          "output_type": "execute_result",
          "data": {
            "text/plain": [
              "['This is a Russian bluff. 70% of the Russian gas goes to EUrope. Gas goes via pipelines. If they stop sending gas to Europe, they will have to torch it (no revenues) or plug the field. \\nIf they plug the field, it will cost a lot to plug it and then re-open it (good luck with export sanctions on oil services equipment). \\nThe Chinese could build a pipeline quickly (couple of years?) but valves, sensors, etc are made in the West. \\n\\nWe need to hold on.',\n",
              " 'Better to be a bit cold than surrender to Putin’s Russia. Better to be a bit poorer (even 15-30%) than give in to this menace that is Russia today and nuclear threats. \\nBetter to be fearless in the face of the bully. \\nBetter for the free world to stay United. ',\n",
              " \"Russia doing us a favour. Britain is not so reliant on Russian oil and gas, so we need to help these smaller countries shield their economies from this energy warfare.\\n\\nAs for Hungary, what a disgrace of a country. They voted in Orban. Do the stories of Bucha, Mariupol and other attrocities not count for anything? Is human suffering something that can so easily be ignored with the offer of cheap gas? Don't tell me Orban has managed to block out these stories with his limited gerrymandering.\",\n",
              " \"Gas isn't even a large earner, it's just an obsession because Germany has used a lot of BP supplied oil and gas\\nhttps://www.worldstopexports.com/russias-top-10-exports/ \\nRussia’s Top 10 Exports by product - 2021 \\nCrude oil - US$ 110.1 billion \\nProcessed petroleum oils - US$ 69.9 billion \\nCoal, solid fuels made from coal - US$ 17.6 billion \\nGold (unwrought) - US$ 17.4 billion \\nIron/non-alloy steel products (semi-finished) - US$9.2 billion \\nPetroleum gases - US$ 8.8 billion \\nPlatinum (unwrought) - US$8.5 billion \\nWheat - US$ 7.3 billion\",\n",
              " 'just a test']"
            ]
          },
          "metadata": {},
          "execution_count": 3
        }
      ]
    },
    {
      "cell_type": "code",
      "source": [
        "# The annotations can be retreived from the assigned variable.\n",
        "annotations = annotate(\n",
        "    comments_examples, \n",
        "    options=[\"informative\", \"emotional\", \"informative & emotional\"],\n",
        "    # you can do without the below, but it renders more beautifully\n",
        "    display_fn= lambda text: display(HTML(text))\n",
        "    )"
      ],
      "metadata": {
        "colab": {
          "base_uri": "https://localhost:8080/",
          "height": 115,
          "referenced_widgets": [
            "998d54d7a9af4c49b2ebf0d9c4b2505b",
            "e2248583a48142a08ed9f9dea0198c4a",
            "9a0b3bf702bc4a3ba3caffa1c3cb1d69",
            "40246d2b6d104f7f89ca653e18da2afb",
            "64c26253a8734603882520ccb6008a39",
            "507192b8d774403184c68d779cf15b75",
            "aad81e8d672443a2ae34992822832491",
            "340dc3fcd5024b53bcc0b7d74f2ac426",
            "312455a4c457497f9f38e190f5f7d2e6",
            "faec3c137f4f49e0b8230615c0cb8d90",
            "82c5daa70a6b41d394153222348bacb0",
            "38a802d9f1f14dcd86d7a88171c5b68c",
            "8ddbc902d97845f786cefef7678713ed",
            "4cbd2574acd74fbdbd57ad491b57bcb2",
            "03a5cd5e143f437ba559abf58b53ad33",
            "2bf9b5e664914304805acae3c4f10387",
            "c83bfbf3638042b08cee18adaa500258",
            "b4400e3db56b4a24835c699a40c664a9",
            "e9fb81e046ff4becb37a4bc4e94eb41e"
          ]
        },
        "id": "_Y_3K4P5UlWK",
        "outputId": "10e7c76f-497c-4cad-89f1-7afbbf2c9be1"
      },
      "execution_count": 4,
      "outputs": [
        {
          "output_type": "display_data",
          "data": {
            "text/plain": [
              "HTML(value='0 examples annotated, 6 examples left')"
            ],
            "application/vnd.jupyter.widget-view+json": {
              "version_major": 2,
              "version_minor": 0,
              "model_id": "998d54d7a9af4c49b2ebf0d9c4b2505b"
            }
          },
          "metadata": {}
        },
        {
          "output_type": "display_data",
          "data": {
            "text/plain": [
              "HBox(children=(Button(description='informative', style=ButtonStyle()), Button(description='emotional', style=B…"
            ],
            "application/vnd.jupyter.widget-view+json": {
              "version_major": 2,
              "version_minor": 0,
              "model_id": "40246d2b6d104f7f89ca653e18da2afb"
            }
          },
          "metadata": {}
        },
        {
          "output_type": "display_data",
          "data": {
            "text/plain": [
              "Output()"
            ],
            "application/vnd.jupyter.widget-view+json": {
              "version_major": 2,
              "version_minor": 0,
              "model_id": "b4400e3db56b4a24835c699a40c664a9"
            }
          },
          "metadata": {}
        },
        {
          "output_type": "stream",
          "name": "stdout",
          "text": [
            "Annotation done.\n"
          ]
        }
      ]
    },
    {
      "cell_type": "code",
      "source": [
        "annotations"
      ],
      "metadata": {
        "colab": {
          "base_uri": "https://localhost:8080/"
        },
        "id": "84qbH5iYVNpH",
        "outputId": "f28d1620-15fb-4cc4-ab08-623029778ea0"
      },
      "execution_count": 6,
      "outputs": [
        {
          "output_type": "execute_result",
          "data": {
            "text/plain": [
              "[('This is a Russian bluff. 70% of the Russian gas goes to EUrope. Gas goes via pipelines. If they stop sending gas to Europe, they will have to torch it (no revenues) or plug the field. \\nIf they plug the field, it will cost a lot to plug it and then re-open it (good luck with export sanctions on oil services equipment). \\nThe Chinese could build a pipeline quickly (couple of years?) but valves, sensors, etc are made in the West. \\n\\nWe need to hold on.',\n",
              "  'informative'),\n",
              " ('Better to be a bit cold than surrender to Putin’s Russia. Better to be a bit poorer (even 15-30%) than give in to this menace that is Russia today and nuclear threats. \\nBetter to be fearless in the face of the bully. \\nBetter for the free world to stay United. ',\n",
              "  'emotional'),\n",
              " (\"Russia doing us a favour. Britain is not so reliant on Russian oil and gas, so we need to help these smaller countries shield their economies from this energy warfare.\\n\\nAs for Hungary, what a disgrace of a country. They voted in Orban. Do the stories of Bucha, Mariupol and other attrocities not count for anything? Is human suffering something that can so easily be ignored with the offer of cheap gas? Don't tell me Orban has managed to block out these stories with his limited gerrymandering.\",\n",
              "  'emotional'),\n",
              " (\"Gas isn't even a large earner, it's just an obsession because Germany has used a lot of BP supplied oil and gas\\nhttps://www.worldstopexports.com/russias-top-10-exports/ \\nRussia’s Top 10 Exports by product - 2021 \\nCrude oil - US$ 110.1 billion \\nProcessed petroleum oils - US$ 69.9 billion \\nCoal, solid fuels made from coal - US$ 17.6 billion \\nGold (unwrought) - US$ 17.4 billion \\nIron/non-alloy steel products (semi-finished) - US$9.2 billion \\nPetroleum gases - US$ 8.8 billion \\nPlatinum (unwrought) - US$8.5 billion \\nWheat - US$ 7.3 billion\",\n",
              "  'informative')]"
            ]
          },
          "metadata": {},
          "execution_count": 6
        }
      ]
    }
  ]
}